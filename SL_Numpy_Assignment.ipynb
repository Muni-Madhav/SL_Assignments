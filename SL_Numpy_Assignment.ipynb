{
 "cells": [
  {
   "cell_type": "code",
   "execution_count": 2,
   "metadata": {},
   "outputs": [
    {
     "name": "stdout",
     "output_type": "stream",
     "text": [
      "X1 : \n",
      " [0 1 2 3 4 5 6 7 8 9]\n",
      "dim: 1\n",
      "[0 1 2 3 4 5 6 7 8 9]\n",
      "[[1 1 1]\n",
      " [1 1 1]\n",
      " [1 1 1]]\n",
      "dim: 2\n"
     ]
    }
   ],
   "source": [
    "import numpy as np\n",
    "import matplotlib.pyplot as mp\n",
    "#1. Create a 1D array of numbers from 0 to 9.\n",
    "X1 = np.array([0,1,2,3,4,5,6,7,8,9])\n",
    "print('X1 : \\n',X1)\n",
    "print('dim:', X1.ndim)\n",
    "x11 = np.arange(0,10)\n",
    "print(x11)\n",
    "x12 = np.array([[1,1,1],[1,1,1],[1,1,1]])\n",
    "print(x12)\n",
    "print('dim:', x12.ndim)"
   ]
  },
  {
   "cell_type": "code",
   "execution_count": 3,
   "metadata": {},
   "outputs": [
    {
     "name": "stdout",
     "output_type": "stream",
     "text": [
      "x2: [[ True  True  True]\n",
      " [ True  True  True]\n",
      " [ True  True  True]]\n",
      "X21: [['True' 'True' 'True']\n",
      " ['True' 'True' 'True']\n",
      " ['True' 'True' 'True']]\n",
      "x22: [[ True  True  True]\n",
      " [ True  True  True]\n",
      " [ True  True  True]]\n"
     ]
    }
   ],
   "source": [
    "#2 Create a 3×3 numpy array of all True’s\n",
    "X2 = np.ones(shape=(3,3), dtype='bool')\n",
    "print('x2:',X2)\n",
    "x21=np.full((3,3), 'True')\n",
    "print('X21:', x21)\n",
    "x22=np.empty(shape=(3,3), dtype='bool')\n",
    "x22.fill(1)\n",
    "print('x22:', x22)"
   ]
  },
  {
   "cell_type": "code",
   "execution_count": 4,
   "metadata": {},
   "outputs": [
    {
     "name": "stdout",
     "output_type": "stream",
     "text": [
      "Array: [0 1 2 3 4 5 6 7 8 9]\n",
      "Odds in Array: [1 3 5 7 9]\n"
     ]
    }
   ],
   "source": [
    "#3.Given an array as input, print o(nly odd numbers as output\n",
    "x3 = np.arange(0,10)\n",
    "print('Array:', x3)\n",
    "print('Odds in Array:',x3[x3%2==1])"
   ]
  },
  {
   "cell_type": "code",
   "execution_count": 5,
   "metadata": {},
   "outputs": [
    {
     "name": "stdout",
     "output_type": "stream",
     "text": [
      "[0 1 2 3 4 5 6 7 8 9]\n",
      "[0, -2, 2, -2, 4, -2, 6, -2, 8, -2]\n"
     ]
    }
   ],
   "source": [
    "#4. Replace all odd numbers in arr with -2\n",
    "x4 = np.arange(0,10)\n",
    "print(x4)\n",
    "x41=[x if not(x%2) else -2 for x in x4]\n",
    "print(x41)"
   ]
  },
  {
   "cell_type": "code",
   "execution_count": 6,
   "metadata": {},
   "outputs": [
    {
     "name": "stdout",
     "output_type": "stream",
     "text": [
      "[0 1 2 3 4 5 6 7 8 9]\n",
      "[[0 5]\n",
      " [1 6]\n",
      " [2 7]\n",
      " [3 8]\n",
      " [4 9]]\n"
     ]
    }
   ],
   "source": [
    "#5.How to reshape an array?\n",
    "x5 = np.arange(0,10)\n",
    "print(x5)\n",
    "x5_rs = x5.reshape(2,5).T\n",
    "print(x5_rs)"
   ]
  },
  {
   "cell_type": "code",
   "execution_count": 7,
   "metadata": {},
   "outputs": [
    {
     "name": "stdout",
     "output_type": "stream",
     "text": [
      "[0 1 2 3 4 5 6 7 8 9]\n",
      "X6 dim: 1\n",
      "[[0 2 4 6 8]\n",
      " [1 3 5 7 9]]\n",
      "X6_rs dim: 2\n"
     ]
    }
   ],
   "source": [
    "#6. Convert a 1D array to a 2D array with 2 rows\n",
    "x6 = np.arange(0,10)\n",
    "print(x6)\n",
    "print('X6 dim:', x6.ndim)\n",
    "x6_rs = x6.reshape(5,2).T\n",
    "print(x6_rs)\n",
    "print('X6_rs dim:', x6_rs.ndim)"
   ]
  },
  {
   "cell_type": "code",
   "execution_count": 8,
   "metadata": {},
   "outputs": [
    {
     "name": "stdout",
     "output_type": "stream",
     "text": [
      "[1 2 3 4 5 6 7 8 9]\n",
      "odds: [1 3 5 7 9]\n",
      "xple of 4: [4 8]\n",
      "[1 3 4 5 7 8 9]\n"
     ]
    }
   ],
   "source": [
    "#7. Given an array  a  = [1,2,3,4,5,6,7,8,9] , \n",
    "#create  new array b from a such that b includes all odd numbers and 4 multiples.\n",
    "a = np.arange(1,10)\n",
    "print(a)\n",
    "print('odds:',a[a%2==1])\n",
    "print('xple of 4:', a[a%4==0])\n",
    "b = a[(a%2==1) | (a%4==0) ]\n",
    "print(b)"
   ]
  },
  {
   "cell_type": "code",
   "execution_count": 9,
   "metadata": {},
   "outputs": [
    {
     "name": "stdout",
     "output_type": "stream",
     "text": [
      "[1, 3, 4, None, 7, 9]\n",
      "None\n"
     ]
    }
   ],
   "source": [
    "#8.Given array, check if there are any null values and print them out. \n",
    "x8=[1,3,4,None,7, 9]\n",
    "print(x8)\n",
    "for x in x8: \n",
    "    if not x: \n",
    "        print(x)\n",
    "None"
   ]
  },
  {
   "cell_type": "code",
   "execution_count": 32,
   "metadata": {},
   "outputs": [
    {
     "name": "stdout",
     "output_type": "stream",
     "text": [
      "[[ 5. nan nan]\n",
      " [nan  6. nan]\n",
      " [nan  7.  5.]]\n",
      "[[5 0 0]\n",
      " [0 6 0]\n",
      " [0 7 5]]\n"
     ]
    }
   ],
   "source": [
    "#9. How to replace all missing values with 0 in a numpy array?\n",
    "# nan can only be in an array if the array is of type float\n",
    "from numpy import array, nan\n",
    "arr = np.array([[5., nan, nan], [nan, 6., nan], [nan, 7., 5.]])\n",
    "print(arr)\n",
    "arr = np.nan_to_num(arr, copy=False).astype(np.int) # cast array as int to replace zero\n",
    "print(arr)"
   ]
  },
  {
   "cell_type": "code",
   "execution_count": 34,
   "metadata": {},
   "outputs": [
    {
     "name": "stdout",
     "output_type": "stream",
     "text": [
      "[[ 1  5]\n",
      " [ 2  3]\n",
      " [ 5  1]\n",
      " [25  1]]\n"
     ]
    }
   ],
   "source": [
    "#10. How to find the count of each unique number in a NumPy array?\n",
    "x10 = np.array([1,1,1,2,2,2,5,25,1,1])\n",
    "unique, counts = np.unique(x10, return_counts=True)\n",
    "print(np.asarray((unique, counts)).T)"
   ]
  },
  {
   "cell_type": "code",
   "execution_count": 38,
   "metadata": {},
   "outputs": [
    {
     "name": "stdout",
     "output_type": "stream",
     "text": [
      "a:\n",
      " [[0.68679815 0.99847286 0.0652366 ]\n",
      " [0.91945196 0.14970983 0.76512527]]\n",
      "b:\n",
      " [0.68679815 0.99847286 0.0652366  0.91945196 0.14970983 0.76512527]\n",
      "c:\n",
      " [1, 1, 0, 1, 0, 1]\n",
      "Categories (2, int64): [0 < 1]\n",
      "d:\n",
      " [[1 1 0]\n",
      " [1 0 1]]\n",
      "e:\n",
      " [[1 1 0]\n",
      " [1 0 1]]\n"
     ]
    }
   ],
   "source": [
    "#11. How to convert a numeric to a categorical (text) array?\n",
    "import numpy as np\n",
    "import pandas as pd\n",
    "\n",
    "a = np.random.rand(2,3) # create a random array\n",
    "print('a:\\n', a)\n",
    "\n",
    "b = a.flatten() #flatten the arry to one D\n",
    "print('b:\\n', b)\n",
    "\n",
    "c = pd.cut(b,(0,0.5,1),labels=[0,1]) #bin the arry \n",
    "print('c:\\n', c)\n",
    "\n",
    "d = np.reshape(c,(2,3)) # reshape back to 2x3 arry\n",
    "print('d:\\n', d)\n",
    "\n",
    "e = np.digitize(a, bins=(0.5, 1)) # digitize lets array binning within shape\n",
    "print('e:\\n', e)"
   ]
  },
  {
   "cell_type": "code",
   "execution_count": 57,
   "metadata": {},
   "outputs": [
    {
     "name": "stdout",
     "output_type": "stream",
     "text": [
      "[100 110 112 115 119 120 125 126 130 133 135 145 147 150 154 155 160 161\n",
      " 165 168 170 180 182 185 189 190 195 196 200 203 205 215 217 220 224 225\n",
      " 230 231 235 238 240 250 252 255 259 260 265 266 270 273 275 285 287 290\n",
      " 294 295]\n"
     ]
    }
   ],
   "source": [
    "# 12. Write a program to print all numbers between 99 and 299 which are either divisible by 5 or 7. \n",
    "# Exclude the elements which are divisible by both\n",
    "x12 = np.arange(99,299)\n",
    "#print(x12)\n",
    "#print('% by 5:',x12[x12%5==0])\n",
    "#print('% by 7:',x12[x12%7==0])\n",
    "#print('% by 3:',x12[x12%35!=0])\n",
    "x12_t = x12[((x12%5==0) | (x12%7==0)) & (x12%35!=0)]\n",
    "print(x12_t)"
   ]
  },
  {
   "cell_type": "code",
   "execution_count": 73,
   "metadata": {},
   "outputs": [
    {
     "name": "stdout",
     "output_type": "stream",
     "text": [
      "Original array:\n",
      "[12 13 14 15 16 17 18 19 20 21 22 23 24 25 26 27 28 29 30 31 32 33 34 35\n",
      " 36 37]\n",
      "Reverse array:\n",
      "[37 36 35 34 33 32 31 30 29 28 27 26 25 24 23 22 21 20 19 18 17 16 15 14\n",
      " 13 12]\n"
     ]
    }
   ],
   "source": [
    "#13. Write a program to reverse an array and print (Don’t use inbuilt reverse functions)\n",
    "x13 = np.arange(12, 38)\n",
    "print(\"Original array:\")\n",
    "print(x13)\n",
    "print(\"Reverse array:\")\n",
    "x13 = x13[::-1]\n",
    "print(x13)"
   ]
  }
 ],
 "metadata": {
  "kernelspec": {
   "display_name": "Python 3",
   "language": "python",
   "name": "python3"
  },
  "language_info": {
   "codemirror_mode": {
    "name": "ipython",
    "version": 3
   },
   "file_extension": ".py",
   "mimetype": "text/x-python",
   "name": "python",
   "nbconvert_exporter": "python",
   "pygments_lexer": "ipython3",
   "version": "3.7.3"
  }
 },
 "nbformat": 4,
 "nbformat_minor": 2
}
